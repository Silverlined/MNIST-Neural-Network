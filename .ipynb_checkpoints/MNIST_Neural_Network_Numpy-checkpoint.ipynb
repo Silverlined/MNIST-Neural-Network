{
 "cells": [
  {
   "cell_type": "markdown",
   "metadata": {},
   "source": [
    "#### By Dimitriy Georgiev"
   ]
  },
  {
   "cell_type": "markdown",
   "metadata": {},
   "source": [
    "## Assignment Description\n",
    "\n",
    "The goal is to correctly identify digits from a dataset of tens of thousands of handwritten images.\n",
    "\n",
    "The data files train.csv and test.csv contain gray-scale images of hand-drawn digits, from zero through nine.\n",
    "\n",
    "Each image is 28 pixels in height and 28 pixels in width, for a total of 784 pixels in total. Each pixel has a single pixel-value associated with it, indicating the lightness or darkness of that pixel, with higher numbers meaning darker. This pixel-value is an integer between 0 and 255, inclusive.\n",
    "\n",
    "> Kaggle Digit Recognizer\n",
    "\n",
    "My goal for this assignment is to understand fundamentals and build a neural network with Numpy on the MNIST Dataset without the help of deep learning frameworks. The reasoning behind it followed from watching `George Hotz | Programming | MNIST classifier from numpy scratch`"
   ]
  },
  {
   "cell_type": "markdown",
   "metadata": {},
   "source": [
    "## Dataset Background\n",
    "\n",
    "The digits have been size-normalized and centered in a fixed-size image. \n",
    "\n",
    "The original black and white (bilevel) images from NIST are size normalized to fit in a 20x20 pixel box while preserving their aspect ratio. The resulting images contain grey levels as a result of the anti-aliasing technique used by the normalization algorithm. The images are centered in a 28x28 image by computing the center of mass of the pixels, and translating the image to position this point at the center of the 28x28 field.\n",
    "\n",
    "With some classification methods (particuarly template-based methods, such as SVM and K-nearest neighbors), the error rate improves when the digits are centered by bounding box rather than center of mass.\n",
    "\n",
    "The labels values are 0 to 9. \n",
    "Pixels are organized row-wise. Pixel values are 0 to 255. 0 means background (white), 255 means foreground (black).\n",
    "\n",
    "> The MNIST Database"
   ]
  },
  {
   "cell_type": "markdown",
   "metadata": {},
   "source": [
    "## Procedure\n",
    "\n",
    "- Fetch MNIST dataset\n",
    "- Split data into training set and validation set\n",
    "- Initialize weights \n",
    "- Define activation functions\n",
    "- Define forward/backward pass\n",
    "- Train a model\n",
    "- Adjust hyper-parameters\n",
    "- Evaluation\n",
    "\n",
    "The model is a 3-layer feed-forward neural network (FNN), in which the input layer has 784 units (28x28 pixels), the hidden layer has 128-unit activated by ReLU function, and the output layer ends with 10 units activated by softmax function representing a discrete probability distribution for each input.\n",
    "\n",
    "<div>\n",
    "<img src=\"res/fnn.png\" width=\"300\"/>\n",
    "</div>"
   ]
  },
  {
   "cell_type": "code",
   "execution_count": 1,
   "metadata": {},
   "outputs": [
    {
     "name": "stdout",
     "output_type": "stream",
     "text": [
      "Populating the interactive namespace from numpy and matplotlib\n"
     ]
    }
   ],
   "source": [
    "%pylab inline\n",
    "import numpy as np # linear algebra\n",
    "import pandas as pd # data processing, CSV file I/O (e.g. pd.read_csv)\n",
    "from tqdm import trange"
   ]
  },
  {
   "cell_type": "code",
   "execution_count": 2,
   "metadata": {
    "scrolled": true
   },
   "outputs": [],
   "source": [
    "# Fetch MNIST dataset from the web\n",
    "def fetch(url):\n",
    "    import requests, gzip, os, hashlib\n",
    "    from requests.exceptions import HTTPError\n",
    "    \n",
    "    file_path = os.path.join(\"/tmp\", hashlib.md5(url.encode('utf-8')).hexdigest())\n",
    "    if os.path.isfile(file_path):\n",
    "        with open(file_path, \"rb\") as file:\n",
    "            data = file.read()\n",
    "    else:\n",
    "        with open(file_path, \"wb\") as file:\n",
    "            \n",
    "            try:\n",
    "                data = requests.get(url, timeout=5).content\n",
    "            except HTTPError as http_err:\n",
    "                print(f'HTTP error occurred: {http_err}')  # Python 3.6\n",
    "            except Exception as err:\n",
    "                print(f'Other error occurred: {err}')  # Python 3.6\n",
    "            else:\n",
    "                print('OK')\n",
    "            file.write(data)\n",
    "    return np.frombuffer(gzip.decompress(data), dtype=np.uint8)\n",
    "\n",
    "\n",
    "# Load binary data, apply [0x10] offset to skip the first bytes with descriptive information\n",
    "# Training set images\n",
    "# X - Images (60,000)\n",
    "# Y - Digit Values (0-9)\n",
    "X_train = np.float32(fetch(\"http://yann.lecun.com/exdb/mnist/train-images-idx3-ubyte.gz\")[0x10:].reshape((-1,28,28)))\n",
    "Y_train = np.int32(fetch(\"http://yann.lecun.com/exdb/mnist/train-labels-idx1-ubyte.gz\")[0x8:])\n",
    "X_test = np.float32(fetch(\"http://yann.lecun.com/exdb/mnist/t10k-images-idx3-ubyte.gz\")[0x10:].reshape((-1,28,28)))\n",
    "Y_test = np.int32(fetch(\"http://yann.lecun.com/exdb/mnist/t10k-labels-idx1-ubyte.gz\")[0x8:])"
   ]
  },
  {
   "cell_type": "code",
   "execution_count": 3,
   "metadata": {
    "scrolled": true
   },
   "outputs": [
    {
     "data": {
      "image/png": "[encoded data removed]",
      "text/plain": [
       "<Figure size 864x360 with 10 Axes>"
      ]
     },
     "metadata": {
      "needs_background": "light"
     },
     "output_type": "display_data"
    },
    {
     "data": {
      "text/plain": [
       "((60000, 28, 28), (60000, 784))"
      ]
     },
     "execution_count": 3,
     "metadata": {},
     "output_type": "execute_result"
    }
   ],
   "source": [
    "# Display sample images\n",
    "fig, axes = plt.subplots(2,5, figsize=(12,5))\n",
    "axes = axes.flatten()\n",
    "idx = np.random.randint(0,60000,size=10)\n",
    "for i in range(10):\n",
    "    axes[i].imshow(X_train[idx[i]], cmap='gray')\n",
    "    axes[i].axis('off') # hide the axes ticks\n",
    "    axes[i].set_title(str(int(Y_train[idx[i]])), color= 'black', fontsize=25)\n",
    "plt.show()\n",
    "\n",
    "X_train.shape, X_train.reshape((-1, 28*28)).shape"
   ]
  },
  {
   "cell_type": "markdown",
   "metadata": {},
   "source": [
    "## PyTorch (for comparison)"
   ]
  },
  {
   "cell_type": "code",
   "execution_count": 4,
   "metadata": {},
   "outputs": [],
   "source": [
    "import torch\n",
    "from torch import nn as nn\n",
    "from torch import functional as F\n",
    "torch.set_printoptions(sci_mode=False)\n",
    "\n",
    "# Create a Model\n",
    "class NeuralNetwork(nn.Module):\n",
    "    def __init__(self): \n",
    "        super(NeuralNetwork, self).__init__()\n",
    "        self.layer_1 = nn.Linear(784, 128, bias=False)\n",
    "        self.layer_2 = nn.Linear(128, 10, bias=False)\n",
    "        self.activation = nn.ReLU()\n",
    "        self.sigmoid = nn.Sigmoid() # prefer ReLU\n",
    "        self.softMax = nn.LogSoftmax(dim=1)\n",
    "        \n",
    "    def forward(self, x):\n",
    "        x = self.layer_1(x)\n",
    "        x = self.activation(x)\n",
    "        x = self.layer_2(x)\n",
    "        x = self.softMax(x) # Disable if CrossEntropyLoss -> (LogSoftmax + NLLLoss)\n",
    "        return x"
   ]
  },
  {
   "cell_type": "code",
   "execution_count": 5,
   "metadata": {},
   "outputs": [
    {
     "name": "stderr",
     "output_type": "stream",
     "text": [
      "loss 0.13 accuracy 0.98: 100%|██████████| 1000/1000 [00:03<00:00, 282.31it/s]\n"
     ]
    },
    {
     "data": {
      "text/plain": [
       "[<matplotlib.lines.Line2D at 0x7f44dc3e5250>]"
      ]
     },
     "execution_count": 5,
     "metadata": {},
     "output_type": "execute_result"
    },
    {
     "data": {
      "image/png": "[encoded data removed]",
      "text/plain": [
       "<Figure size 432x288 with 1 Axes>"
      ]
     },
     "metadata": {
      "needs_background": "light"
     },
     "output_type": "display_data"
    }
   ],
   "source": [
    "# Training\n",
    "model = NeuralNetwork()\n",
    "batch_size = 128\n",
    "#loss_function = nn.CrossEntropyLoss()\n",
    "loss_function = nn.NLLLoss(reduction=\"none\")\n",
    "# optimization = torch.optim.Adam(model.parameters())\n",
    "optimization = torch.optim.SGD(model.parameters(), lr=0.001, momentum=0)\n",
    "\n",
    "losses, accuracies = [], []\n",
    "t = trange(1000)\n",
    "for i in t:\n",
    "    batch = np.random.randint(0, X_train.shape[0], size=batch_size)\n",
    "    X = torch.tensor(X_train[batch].reshape((-1, 28 * 28))) # flatten, 2-D to 1-D array\n",
    "    Y = torch.tensor(Y_train[batch]).long()\n",
    "    model.zero_grad()\n",
    "    output = model(X)\n",
    "    digit = torch.argmax(output, dim=1)\n",
    "    accuracy = (digit == Y).float().mean()\n",
    "    loss = loss_function(output, Y)\n",
    "    loss = loss.mean() # if loss function is NLLLoss\n",
    "    loss.backward()\n",
    "    optimization.step()\n",
    "    loss, accuracy = loss.item(), accuracy.item()\n",
    "    losses.append(loss)\n",
    "    accuracies.append(accuracy)\n",
    "    t.set_description(\"loss %.2f accuracy %.2f\" % (loss, accuracy))\n",
    "plt.ylim(-0.1, 1.1)\n",
    "plot(losses)\n",
    "plot(accuracies)"
   ]
  },
  {
   "cell_type": "code",
   "execution_count": 6,
   "metadata": {},
   "outputs": [],
   "source": [
    "# Evaluation\n",
    "def evaluate():\n",
    "    Y_predictions = torch.argmax(model(torch.tensor(X_test.reshape((-1, 28*28))).float()), dim=1).numpy()\n",
    "    return (Y_test == Y_predictions).mean()"
   ]
  },
  {
   "cell_type": "code",
   "execution_count": 7,
   "metadata": {},
   "outputs": [
    {
     "data": {
      "text/plain": [
       "0.9337"
      ]
     },
     "execution_count": 7,
     "metadata": {},
     "output_type": "execute_result"
    }
   ],
   "source": [
    "evaluate()"
   ]
  },
  {
   "cell_type": "markdown",
   "metadata": {},
   "source": [
    "## Numpy Only"
   ]
  },
  {
   "cell_type": "markdown",
   "metadata": {},
   "source": [
    "### Neural Network"
   ]
  },
  {
   "cell_type": "code",
   "execution_count": 8,
   "metadata": {},
   "outputs": [],
   "source": [
    "class NumpyNeuralNetwork():\n",
    "    \"\"\"\n",
    "    A class used to represent a Neural Network\n",
    "\n",
    "    Attributes\n",
    "    ----------\n",
    "        sizes : list\n",
    "            Number of nodes (neurons) in each layer of the NN [input, hidden, out]\n",
    "        epochs : int\n",
    "            Number of times the dataset is passed forward and backward (trained) through the NN (default: 1000)\n",
    "        batch_size : int\n",
    "            Number of training samples present in a single iteration (default: 128)\n",
    "        learning_rate : float\n",
    "            Hyperparameter controlling how much the model is changed on each epoch (default: 0.001)\n",
    "            \n",
    "    Methods\n",
    "    -------\n",
    "        initialization()\n",
    "            Initializes parameters and weights of the NN, i.e. prepare transformation matrices for forward pass \n",
    "    \"\"\"\n",
    "    \n",
    "    def __init__(self, sizes, epochs=1000, batch_size=128, learning_rate=0.001):\n",
    "        self.sizes           = sizes\n",
    "        self.epochs          = epochs\n",
    "        self.batch_size      = batch_size\n",
    "        self.learning_rate   = learning_rate\n",
    "        \n",
    "        self.weights         = self.__initialization()\n",
    "        \n",
    "    def __initialization(self, method=0):\n",
    "        \"\"\" \n",
    "        Initializes weights of the NN (for Sigmoid, TanH, or ReLU activation functions)\n",
    "\n",
    "        Parameters\n",
    "        ----------\n",
    "            distribution : int\n",
    "                Determines the underlying distribution from which the weights are initialized.\n",
    "                If activaiton function is Sigmoid or TanH, use Xavier or normalized Xavier\n",
    "                If activation function is ReLU, use Kaiming \n",
    "                (Initialization is important)\n",
    "        \"\"\"\n",
    "        input_nodes     = self.sizes[0]\n",
    "        hidden_nodes    = self.sizes[1]\n",
    "        output_nodes    = self.sizes[2]\n",
    "        \n",
    "        weights = {}\n",
    "        if (method == 0):\n",
    "            # Weights drawn randomly from a uniform distribution (Xavier)\n",
    "            weights = {\n",
    "                'W1' : np.random.uniform(low=-1., high=1, size=(hidden_nodes, input_nodes))  * np.sqrt(1. / input_nodes),\n",
    "                'W2' : np.random.uniform(low=-1., high=1, size=(output_nodes, hidden_nodes)) * np.sqrt(1. / hidden_nodes),\n",
    "            }\n",
    "        elif (method == 1):\n",
    "            # Weights drawn randomly from a uniform distribution (normalized Xavier)\n",
    "            weights = {\n",
    "                'W1' : np.random.uniform(low=-1., high=1, size=(input_nodes, hidden_nodes))  * (np.sqrt(6.) / np.sqrt(hidden_nodes + input_nodes)),\n",
    "                'W2' : np.random.uniform(low=-1., high=1, size=(hidden_nodes, output_nodes)) * (np.sqrt(6.) / np.sqrt(output_nodes + hidden_nodes)),\n",
    "            }\n",
    "        elif (method == 2):\n",
    "            # Weights drawn randomly from a gaussian distribution (Kaiming He)\n",
    "            weights = {\n",
    "                'W1' : np.random.randn(input_nodes, hidden_nodes)  * np.sqrt(2. / input_nodes),\n",
    "                'W2' : np.random.randn(hidden_nodes, output_nodes) * np.sqrt(2. / hidden_nodes),\n",
    "            }\n",
    "        \n",
    "        return weights"
   ]
  },
  {
   "cell_type": "markdown",
   "metadata": {},
   "source": [
    "### Feedforward"
   ]
  },
  {
   "cell_type": "markdown",
   "metadata": {},
   "source": [
    "#### Activation functions"
   ]
  },
  {
   "cell_type": "code",
   "execution_count": 81,
   "metadata": {},
   "outputs": [],
   "source": [
    "def sigmoid(x, derivative=False):\n",
    "    if derivative:\n",
    "        return (np.exp(-x))/((np.exp(-x)+1)**2)\n",
    "    return 1/(1 + np.exp(-x))\n",
    "\n",
    "def softmax(x):\n",
    "    # Numerically stable with large exponentials\n",
    "    exps = np.exp(x - x.max())\n",
    "    return exps / np.sum(exps, axis=0)\n",
    "\n",
    "def ReLU(x, derivative=False):\n",
    "    if derivative:\n",
    "        return 1. * (x > 0)\n",
    "    return x * (x > 0)\n",
    "\n",
    "def logSumExp(x):\n",
    "    # http://gregorygundersen.com/blog/2020/02/09/log-sum-exp/\n",
    "    c = x.max()\n",
    "    return c + np.log(np.sum(np.exp(x - c)))\n",
    "\n",
    "def logSoftMax(x):\n",
    "    # Improved numerical performace and gradient optimization compared to SoftMax\n",
    "    return x - logSumExp(x)"
   ]
  },
  {
   "cell_type": "code",
   "execution_count": 146,
   "metadata": {
    "scrolled": true
   },
   "outputs": [],
   "source": [
    "def forward_backward(weights, x_train, y_train):\n",
    "    N = len(y_train) # Number of images\n",
    "    categories = 10      # Possible outcomes, digits [0-10], hence 10 columns\n",
    "    output = np.zeros((N, categories), np.float32)\n",
    "    \n",
    "    for index, value in zip(range(N), y_train):\n",
    "        output[index, value] = 1\n",
    "    \n",
    "    # forward pass\n",
    "    # print(weights[\"W1\"].shape, x_train.shape)\n",
    "    x_layer1 = weights[\"W1\"] @ x_train \n",
    "    x_relu = ReLU(x_layer1)\n",
    "    x_layer2 = weights[\"W2\"] @ x_relu \n",
    "    x_lsm = logSoftMax(x_layer2)\n",
    "    x_loss = (-output.T * y_train).mean(axis=1)\n",
    "    \n",
    "    # backward pass\n",
    "    d_output = -output / len(y_train)\n",
    "    #print(d_output.shape, x_lsm.shape)\n",
    "    \n",
    "    # derivative of logsoftmax\n",
    "    d_x_lsm = d_output - np.exp(x_lsm.T) * d_output.sum(axis=1).reshape((-1, 1))\n",
    "    \n",
    "    # derivative of layer_2\n",
    "    d_layer2 = x_relu @ d_x_lsm\n",
    "    d_x_relu = d_x_lsm @ x_layer2\n",
    "    #print(d_x_relu.shape)\n",
    "    \n",
    "    # derivative of relu\n",
    "    d_x_layer1 = (x_relu > 0).astype(np.float32) @ d_x_relu\n",
    "    \n",
    "    # derivative of l1\n",
    "    d_layer2 = x_train @ d_x_layer1.T\n",
    "    \n",
    "    return x_loss, x_l2, d_l1, d_l2"
   ]
  },
  {
   "cell_type": "code",
   "execution_count": 147,
   "metadata": {},
   "outputs": [],
   "source": [
    "nn = NumpyNeuralNetwork(sizes=[784,128,10])\n",
    "s = range(7)\n",
    "forward_backward(nn.weights, X_test[s].reshape((-1, 28*28)).T, Y_train[s])"
   ]
  },
  {
   "cell_type": "markdown",
   "metadata": {},
   "source": [
    "### Backpropagation"
   ]
  },
  {
   "cell_type": "code",
   "execution_count": null,
   "metadata": {},
   "outputs": [],
   "source": []
  },
  {
   "cell_type": "markdown",
   "metadata": {},
   "source": [
    "### Training"
   ]
  },
  {
   "cell_type": "code",
   "execution_count": null,
   "metadata": {},
   "outputs": [],
   "source": []
  },
  {
   "cell_type": "markdown",
   "metadata": {},
   "source": [
    "### Evaluation"
   ]
  },
  {
   "cell_type": "code",
   "execution_count": 12,
   "metadata": {},
   "outputs": [],
   "source": [
    "l1 = np.zeros((784, 128), dtype=np.float32)\n",
    "l2 = np.zeros((128, 10), dtype=np.float32)\n",
    "\n",
    "# copy weights from pytorch\n",
    "# Use [:] for deep copy, instead of address only \n",
    "l1[:] = model.layer_1.weight.detach().numpy().transpose()\n",
    "l2[:] = model.layer_2.weight.detach().numpy().transpose()"
   ]
  },
  {
   "cell_type": "code",
   "execution_count": 13,
   "metadata": {},
   "outputs": [
    {
     "data": {
      "text/plain": [
       "0.9337"
      ]
     },
     "execution_count": 13,
     "metadata": {},
     "output_type": "execute_result"
    }
   ],
   "source": [
    "def forward(x):\n",
    "    x = x @ l1\n",
    "    x = np.maximum(x, 0)\n",
    "    x = x @ l2\n",
    "    return x\n",
    "\n",
    "Y_test_predictions = np.argmax(forward(X_test.reshape((-1, 28*28))), axis=1)\n",
    "(Y_test == Y_test_predictions).mean()"
   ]
  },
  {
   "cell_type": "markdown",
   "metadata": {},
   "source": [
    "## References\n",
    "\n",
    "Build Neural Network from scratch with Numpy on MNIST Dataset, 2018 https://zhenye-na.github.io/2018/09/09/build-neural-network-with-mnist-from-scratch.html\n",
    "\n",
    "Neural networks from scratch, 2020 https://developer.ibm.com/technologies/artificial-intelligence/articles/neural-networks-from-scratch"
   ]
  }
 ],
 "metadata": {
  "kernelspec": {
   "display_name": "Python 3",
   "language": "python",
   "name": "python3"
  },
  "language_info": {
   "codemirror_mode": {
    "name": "ipython",
    "version": 3
   },
   "file_extension": ".py",
   "mimetype": "text/x-python",
   "name": "python",
   "nbconvert_exporter": "python",
   "pygments_lexer": "ipython3",
   "version": "3.7.7"
  },
  "toc": {
   "base_numbering": 1,
   "nav_menu": {},
   "number_sections": false,
   "sideBar": true,
   "skip_h1_title": false,
   "title_cell": "Table of Contents",
   "title_sidebar": "Contents",
   "toc_cell": false,
   "toc_position": {},
   "toc_section_display": true,
   "toc_window_display": false
  }
 },
 "nbformat": 4,
 "nbformat_minor": 4
}
